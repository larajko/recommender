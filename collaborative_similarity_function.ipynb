{
 "cells": [
  {
   "cell_type": "code",
   "execution_count": 2,
   "id": "2d6feb85",
   "metadata": {},
   "outputs": [],
   "source": [
    "import pandas as pd\n",
    "import numpy as np"
   ]
  },
  {
   "cell_type": "code",
   "execution_count": 3,
   "id": "de779a93",
   "metadata": {},
   "outputs": [],
   "source": [
    "df = pd.read_table('data/user_ratedmovies-timestamps.dat')"
   ]
  },
  {
   "cell_type": "code",
   "execution_count": 4,
   "id": "edb1d55c",
   "metadata": {},
   "outputs": [
    {
     "data": {
      "text/html": [
       "<div>\n",
       "<style scoped>\n",
       "    .dataframe tbody tr th:only-of-type {\n",
       "        vertical-align: middle;\n",
       "    }\n",
       "\n",
       "    .dataframe tbody tr th {\n",
       "        vertical-align: top;\n",
       "    }\n",
       "\n",
       "    .dataframe thead th {\n",
       "        text-align: right;\n",
       "    }\n",
       "</style>\n",
       "<table border=\"1\" class=\"dataframe\">\n",
       "  <thead>\n",
       "    <tr style=\"text-align: right;\">\n",
       "      <th></th>\n",
       "      <th>userID</th>\n",
       "      <th>movieID</th>\n",
       "      <th>rating</th>\n",
       "      <th>timestamp</th>\n",
       "    </tr>\n",
       "  </thead>\n",
       "  <tbody>\n",
       "    <tr>\n",
       "      <th>0</th>\n",
       "      <td>75</td>\n",
       "      <td>3</td>\n",
       "      <td>1.0</td>\n",
       "      <td>1162160236000</td>\n",
       "    </tr>\n",
       "    <tr>\n",
       "      <th>1</th>\n",
       "      <td>75</td>\n",
       "      <td>32</td>\n",
       "      <td>4.5</td>\n",
       "      <td>1162160624000</td>\n",
       "    </tr>\n",
       "    <tr>\n",
       "      <th>2</th>\n",
       "      <td>75</td>\n",
       "      <td>110</td>\n",
       "      <td>4.0</td>\n",
       "      <td>1162161008000</td>\n",
       "    </tr>\n",
       "    <tr>\n",
       "      <th>3</th>\n",
       "      <td>75</td>\n",
       "      <td>160</td>\n",
       "      <td>2.0</td>\n",
       "      <td>1162160212000</td>\n",
       "    </tr>\n",
       "    <tr>\n",
       "      <th>4</th>\n",
       "      <td>75</td>\n",
       "      <td>163</td>\n",
       "      <td>4.0</td>\n",
       "      <td>1162160970000</td>\n",
       "    </tr>\n",
       "  </tbody>\n",
       "</table>\n",
       "</div>"
      ],
      "text/plain": [
       "   userID  movieID  rating      timestamp\n",
       "0      75        3     1.0  1162160236000\n",
       "1      75       32     4.5  1162160624000\n",
       "2      75      110     4.0  1162161008000\n",
       "3      75      160     2.0  1162160212000\n",
       "4      75      163     4.0  1162160970000"
      ]
     },
     "execution_count": 4,
     "metadata": {},
     "output_type": "execute_result"
    }
   ],
   "source": [
    "df.head()"
   ]
  },
  {
   "cell_type": "code",
   "execution_count": 5,
   "id": "dff5631a",
   "metadata": {},
   "outputs": [],
   "source": [
    "movies = pd.read_table('data/movies.dat',encoding='latin-1')"
   ]
  },
  {
   "cell_type": "code",
   "execution_count": 6,
   "id": "6d1bdb50",
   "metadata": {},
   "outputs": [
    {
     "data": {
      "text/html": [
       "<div>\n",
       "<style scoped>\n",
       "    .dataframe tbody tr th:only-of-type {\n",
       "        vertical-align: middle;\n",
       "    }\n",
       "\n",
       "    .dataframe tbody tr th {\n",
       "        vertical-align: top;\n",
       "    }\n",
       "\n",
       "    .dataframe thead th {\n",
       "        text-align: right;\n",
       "    }\n",
       "</style>\n",
       "<table border=\"1\" class=\"dataframe\">\n",
       "  <thead>\n",
       "    <tr style=\"text-align: right;\">\n",
       "      <th></th>\n",
       "      <th>id</th>\n",
       "      <th>title</th>\n",
       "    </tr>\n",
       "  </thead>\n",
       "  <tbody>\n",
       "    <tr>\n",
       "      <th>0</th>\n",
       "      <td>1</td>\n",
       "      <td>Toy story</td>\n",
       "    </tr>\n",
       "    <tr>\n",
       "      <th>1</th>\n",
       "      <td>2</td>\n",
       "      <td>Jumanji</td>\n",
       "    </tr>\n",
       "    <tr>\n",
       "      <th>2</th>\n",
       "      <td>3</td>\n",
       "      <td>Grumpy Old Men</td>\n",
       "    </tr>\n",
       "    <tr>\n",
       "      <th>3</th>\n",
       "      <td>4</td>\n",
       "      <td>Waiting to Exhale</td>\n",
       "    </tr>\n",
       "    <tr>\n",
       "      <th>4</th>\n",
       "      <td>5</td>\n",
       "      <td>Father of the Bride Part II</td>\n",
       "    </tr>\n",
       "  </tbody>\n",
       "</table>\n",
       "</div>"
      ],
      "text/plain": [
       "   id                        title\n",
       "0   1                    Toy story\n",
       "1   2                      Jumanji\n",
       "2   3               Grumpy Old Men\n",
       "3   4            Waiting to Exhale\n",
       "4   5  Father of the Bride Part II"
      ]
     },
     "execution_count": 6,
     "metadata": {},
     "output_type": "execute_result"
    }
   ],
   "source": [
    "movies[['id','title']].head()"
   ]
  },
  {
   "cell_type": "code",
   "execution_count": 21,
   "id": "616b014e",
   "metadata": {},
   "outputs": [],
   "source": [
    "#df_titles = df.set_index('movieID').join(movies[['id','title']].set_index('id'))"
   ]
  },
  {
   "cell_type": "code",
   "execution_count": 7,
   "id": "ad366e05",
   "metadata": {},
   "outputs": [],
   "source": [
    "df_titles = df.join(movies[['id','title']].set_index('id'), how='left', on='movieID')"
   ]
  },
  {
   "cell_type": "code",
   "execution_count": 8,
   "id": "70ba5526",
   "metadata": {},
   "outputs": [],
   "source": [
    "df_filtered = df_titles.loc[df_titles['title'].isin(['The Matrix','Alien','The Godfather'])]"
   ]
  },
  {
   "cell_type": "code",
   "execution_count": 9,
   "id": "7cf14796",
   "metadata": {},
   "outputs": [
    {
     "data": {
      "text/html": [
       "<div>\n",
       "<style scoped>\n",
       "    .dataframe tbody tr th:only-of-type {\n",
       "        vertical-align: middle;\n",
       "    }\n",
       "\n",
       "    .dataframe tbody tr th {\n",
       "        vertical-align: top;\n",
       "    }\n",
       "\n",
       "    .dataframe thead th {\n",
       "        text-align: right;\n",
       "    }\n",
       "</style>\n",
       "<table border=\"1\" class=\"dataframe\">\n",
       "  <thead>\n",
       "    <tr style=\"text-align: right;\">\n",
       "      <th></th>\n",
       "      <th>userID</th>\n",
       "      <th>movieID</th>\n",
       "      <th>rating</th>\n",
       "      <th>timestamp</th>\n",
       "      <th>title</th>\n",
       "    </tr>\n",
       "  </thead>\n",
       "  <tbody>\n",
       "    <tr>\n",
       "      <th>29</th>\n",
       "      <td>75</td>\n",
       "      <td>2571</td>\n",
       "      <td>4.5</td>\n",
       "      <td>1162161050000</td>\n",
       "      <td>The Matrix</td>\n",
       "    </tr>\n",
       "    <tr>\n",
       "      <th>98</th>\n",
       "      <td>78</td>\n",
       "      <td>858</td>\n",
       "      <td>4.0</td>\n",
       "      <td>1089332870000</td>\n",
       "      <td>The Godfather</td>\n",
       "    </tr>\n",
       "    <tr>\n",
       "      <th>149</th>\n",
       "      <td>78</td>\n",
       "      <td>1214</td>\n",
       "      <td>5.0</td>\n",
       "      <td>1083963994000</td>\n",
       "      <td>Alien</td>\n",
       "    </tr>\n",
       "    <tr>\n",
       "      <th>286</th>\n",
       "      <td>78</td>\n",
       "      <td>2571</td>\n",
       "      <td>5.0</td>\n",
       "      <td>1083964044000</td>\n",
       "      <td>The Matrix</td>\n",
       "    </tr>\n",
       "    <tr>\n",
       "      <th>612</th>\n",
       "      <td>170</td>\n",
       "      <td>2571</td>\n",
       "      <td>3.5</td>\n",
       "      <td>1162208300000</td>\n",
       "      <td>The Matrix</td>\n",
       "    </tr>\n",
       "  </tbody>\n",
       "</table>\n",
       "</div>"
      ],
      "text/plain": [
       "     userID  movieID  rating      timestamp          title\n",
       "29       75     2571     4.5  1162161050000     The Matrix\n",
       "98       78      858     4.0  1089332870000  The Godfather\n",
       "149      78     1214     5.0  1083963994000          Alien\n",
       "286      78     2571     5.0  1083964044000     The Matrix\n",
       "612     170     2571     3.5  1162208300000     The Matrix"
      ]
     },
     "execution_count": 9,
     "metadata": {},
     "output_type": "execute_result"
    }
   ],
   "source": [
    "df_filtered.head()"
   ]
  },
  {
   "cell_type": "code",
   "execution_count": 10,
   "id": "ef00e7a0",
   "metadata": {
    "scrolled": true
   },
   "outputs": [
    {
     "data": {
      "text/plain": [
       "True"
      ]
     },
     "execution_count": 10,
     "metadata": {},
     "output_type": "execute_result"
    }
   ],
   "source": [
    "df_titles.loc[ (df_titles['movieID']==3) & (df_titles['userID']==76), ['rating']].empty"
   ]
  },
  {
   "cell_type": "code",
   "execution_count": 28,
   "id": "803ce513",
   "metadata": {},
   "outputs": [],
   "source": [
    "matrix = np.zeros((df_filtered['title'].nunique(),df_filtered['userID'].nunique()))\n",
    "distinct_movies = df_filtered['title'].unique()\n",
    "distinct_users = df_filtered['userID'].unique()"
   ]
  },
  {
   "cell_type": "code",
   "execution_count": 12,
   "id": "ac7e5ebe",
   "metadata": {},
   "outputs": [
    {
     "data": {
      "text/plain": [
       "array(['The Matrix', 'The Godfather', 'Alien'], dtype=object)"
      ]
     },
     "execution_count": 12,
     "metadata": {},
     "output_type": "execute_result"
    }
   ],
   "source": [
    "distinct_movies"
   ]
  },
  {
   "cell_type": "code",
   "execution_count": 29,
   "id": "6cfe127e",
   "metadata": {},
   "outputs": [],
   "source": [
    "for movie in distinct_movies:\n",
    "    for user in distinct_users:\n",
    "        if not(df_filtered.loc[ (df_titles['title']==movie) & (df_filtered['userID']==user), ['rating']].empty):\n",
    "            matrix[np.where(distinct_movies==movie)[0][0]][np.where(distinct_users==user)[0][0]] = df_filtered.loc[ (df_filtered['title']==movie) & (df_filtered['userID']==user), ['rating']].values[0][0]"
   ]
  },
  {
   "cell_type": "code",
   "execution_count": 15,
   "id": "26f14bf8",
   "metadata": {},
   "outputs": [],
   "source": [
    "from sklearn.metrics.pairwise import cosine_similarity"
   ]
  },
  {
   "cell_type": "code",
   "execution_count": 24,
   "id": "91323bf3",
   "metadata": {},
   "outputs": [
    {
     "data": {
      "text/plain": [
       "array([[1.        , 0.71107806, 0.72501861, 0.        ],\n",
       "       [0.71107806, 1.        , 0.6626891 , 0.        ],\n",
       "       [0.72501861, 0.6626891 , 1.        , 0.        ],\n",
       "       [0.        , 0.        , 0.        , 0.        ]])"
      ]
     },
     "execution_count": 24,
     "metadata": {},
     "output_type": "execute_result"
    }
   ],
   "source": [
    "cosine_similarities_movies = cosine_similarity(matrix)\n",
    "cosine_similarities_movies"
   ]
  },
  {
   "cell_type": "code",
   "execution_count": 23,
   "id": "3e2e2ae3",
   "metadata": {},
   "outputs": [
    {
     "data": {
      "text/plain": [
       "array([[1.        , 0.61545745, 1.        , ..., 0.57735027, 1.        ,\n",
       "        0.66896473],\n",
       "       [0.61545745, 1.        , 0.61545745, ..., 0.99493668, 0.61545745,\n",
       "        0.77769207],\n",
       "       [1.        , 0.61545745, 1.        , ..., 0.57735027, 1.        ,\n",
       "        0.66896473],\n",
       "       ...,\n",
       "       [0.57735027, 0.99493668, 0.57735027, ..., 1.        , 0.57735027,\n",
       "        0.81536804],\n",
       "       [1.        , 0.61545745, 1.        , ..., 0.57735027, 1.        ,\n",
       "        0.66896473],\n",
       "       [0.66896473, 0.77769207, 0.66896473, ..., 0.81536804, 0.66896473,\n",
       "        1.        ]])"
      ]
     },
     "execution_count": 23,
     "metadata": {},
     "output_type": "execute_result"
    }
   ],
   "source": [
    "cosine_similarities_users = cosine_similarity(matrix.transpose())\n",
    "cosine_similarities_users"
   ]
  }
 ],
 "metadata": {
  "kernelspec": {
   "display_name": "Python 3 (ipykernel)",
   "language": "python",
   "name": "python3"
  },
  "language_info": {
   "codemirror_mode": {
    "name": "ipython",
    "version": 3
   },
   "file_extension": ".py",
   "mimetype": "text/x-python",
   "name": "python",
   "nbconvert_exporter": "python",
   "pygments_lexer": "ipython3",
   "version": "3.9.7"
  }
 },
 "nbformat": 4,
 "nbformat_minor": 5
}
