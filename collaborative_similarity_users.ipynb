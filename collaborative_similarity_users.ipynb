{
 "cells": [
  {
   "cell_type": "code",
   "execution_count": 1,
   "id": "4d4120bb",
   "metadata": {},
   "outputs": [],
   "source": [
    "import pandas as pd\n",
    "import numpy as np"
   ]
  },
  {
   "cell_type": "code",
   "execution_count": 4,
   "id": "b4ed670d",
   "metadata": {},
   "outputs": [],
   "source": [
    "data = pd.read_table('data/user_ratedmovies-timestamps.dat')"
   ]
  },
  {
   "cell_type": "code",
   "execution_count": 5,
   "id": "47c6fefd",
   "metadata": {},
   "outputs": [],
   "source": [
    "ratings_user_75 = data.loc[data['userID']==75]['rating']\n",
    "ratings_user_14454 = data.loc[data['userID']==14454]['rating']\n",
    "ratings_user_2203 = data.loc[data['userID']==2203]['rating']\n",
    "\n",
    "movies_user_75 = data.loc[data['userID']==75]['movieID']\n",
    "movies_user_14454 = data.loc[data['userID']==14454]['movieID']\n",
    "movies_user_2203 = data.loc[data['userID']==2203]['movieID']"
   ]
  },
  {
   "cell_type": "code",
   "execution_count": 6,
   "id": "df43a349",
   "metadata": {},
   "outputs": [
    {
     "name": "stdout",
     "output_type": "stream",
     "text": [
      "[(3, 75, 1.0), (32, 75, 4.5), (110, 75, 4.0), (160, 75, 2.0), (163, 75, 4.0)]\n",
      "[(38886, 14454, 3.5), (39292, 14454, 2.5), (39381, 14454, 3.5), (40851, 14454, 2.0), (41569, 14454, 3.0)]\n"
     ]
    }
   ],
   "source": [
    "tuples = [(imovies.iloc[idx], i, iratings.iloc[idx]) for i, imovies, iratings in [\n",
    "    (75, movies_user_75, ratings_user_75), \n",
    "    (14454, movies_user_14454, ratings_user_14454), \n",
    "    (2203, movies_user_2203, ratings_user_2203)]\n",
    "          for idx in range(len(imovies))]\n",
    "print(tuples[0:5])\n",
    "print(tuples[-5:])\n",
    "cols = [u for u, _, _ in tuples]\n",
    "rows = [i for _, i, _ in tuples]\n",
    "ratings = [r for _, _, r in tuples]\n",
    "\n",
    "import scipy.sparse as sp\n",
    "small_matrix = sp.csr_matrix((ratings, (rows, cols)), dtype='float32')"
   ]
  },
  {
   "cell_type": "code",
   "execution_count": 7,
   "id": "b477cc4c",
   "metadata": {},
   "outputs": [
    {
     "data": {
      "text/plain": [
       "<14455x45723 sparse matrix of type '<class 'numpy.float32'>'\n",
       "\twith 908 stored elements in Compressed Sparse Row format>"
      ]
     },
     "execution_count": 7,
     "metadata": {},
     "output_type": "execute_result"
    }
   ],
   "source": [
    "small_matrix"
   ]
  },
  {
   "cell_type": "code",
   "execution_count": 9,
   "id": "5d7f16b0",
   "metadata": {},
   "outputs": [
    {
     "name": "stdout",
     "output_type": "stream",
     "text": [
      "User 75 vs User 14454:  0.09606588\n",
      "User 14454 vs User 2203:  0.0\n",
      "User 2203 vs User 65:  0.0\n"
     ]
    }
   ],
   "source": [
    "import numpy as np\n",
    "from sklearn.metrics.pairwise import cosine_similarity\n",
    "\n",
    "sims=cosine_similarity(small_matrix)\n",
    "print('User 75 vs User 14454: ', sims[75, 14454])\n",
    "print('User 14454 vs User 2203: ', sims[14454, 2203])\n",
    "print('User 2203 vs User 65: ', sims[2203, 75])"
   ]
  },
  {
   "cell_type": "code",
   "execution_count": null,
   "id": "131b5104",
   "metadata": {},
   "outputs": [],
   "source": []
  }
 ],
 "metadata": {
  "kernelspec": {
   "display_name": "Python 3 (ipykernel)",
   "language": "python",
   "name": "python3"
  },
  "language_info": {
   "codemirror_mode": {
    "name": "ipython",
    "version": 3
   },
   "file_extension": ".py",
   "mimetype": "text/x-python",
   "name": "python",
   "nbconvert_exporter": "python",
   "pygments_lexer": "ipython3",
   "version": "3.9.7"
  }
 },
 "nbformat": 4,
 "nbformat_minor": 5
}
